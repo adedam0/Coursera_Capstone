{
 "cells": [
  {
   "cell_type": "markdown",
   "metadata": {},
   "source": [
    "<h1 align=center><font size = 5>Data Preprocessing for Segmenting and Clustering Neighbourhoods in Toronto.</font></h1>"
   ]
  },
  {
   "cell_type": "markdown",
   "metadata": {},
   "source": [
    "## Introduction\n",
    "\n",
    "This lab is a stepping stone to my Segmenting and Clustering Neighbourhoods in Toronto project. The postal code, borough and neighbourhood data needed for this project was sourced from Wikipedia, cleaned and arranged in a data frame."
   ]
  },
  {
   "cell_type": "markdown",
   "metadata": {},
   "source": [
    "Importing required libraries..."
   ]
  },
  {
   "cell_type": "code",
   "execution_count": 1,
   "metadata": {},
   "outputs": [],
   "source": [
    "from bs4 import BeautifulSoup #to aid web scraping\n",
    "import requests #to handle requests\n",
    "import pandas as pd #for data maniulation and analysis"
   ]
  },
  {
   "cell_type": "markdown",
   "metadata": {},
   "source": [
    "Download website's html doc for scraping"
   ]
  },
  {
   "cell_type": "code",
   "execution_count": 2,
   "metadata": {},
   "outputs": [],
   "source": [
    "url = 'https://en.wikipedia.org/wiki/List_of_postal_codes_of_Canada:_M'\n",
    "\n",
    "data = requests.get(url).text"
   ]
  },
  {
   "cell_type": "markdown",
   "metadata": {},
   "source": [
    "Create Soup object and extract table data"
   ]
  },
  {
   "cell_type": "code",
   "execution_count": 3,
   "metadata": {},
   "outputs": [],
   "source": [
    "soup = BeautifulSoup(data, 'html5lib')\n",
    "table = soup.table\n",
    "tableData = table.find_all('td')"
   ]
  },
  {
   "cell_type": "markdown",
   "metadata": {},
   "source": [
    "Below, I made a list (of strings in each table data) for each table data and then made a list of these lists. "
   ]
  },
  {
   "cell_type": "code",
   "execution_count": 4,
   "metadata": {},
   "outputs": [
    {
     "data": {
      "text/plain": [
       "[[\"'M1A'\", \"'Not assigned'\"],\n",
       " [\"'M2A'\", \"'Not assigned'\"],\n",
       " [\"'M3A'\", \"'North York'\", \"'('\", \"'Parkwoods'\", \"')'\"],\n",
       " [\"'M4A'\", \"'North York'\", \"'('\", \"'Victoria Village'\", \"')'\"],\n",
       " [\"'M5A'\",\n",
       "  \"'Downtown Toronto'\",\n",
       "  \"'('\",\n",
       "  \"'Regent Park'\",\n",
       "  \"'/'\",\n",
       "  \"'Harbourfront'\",\n",
       "  \"')'\"]]"
      ]
     },
     "execution_count": 4,
     "metadata": {},
     "output_type": "execute_result"
    }
   ],
   "source": [
    "#make rows of desired dataframe into a list and append all into a  general list\n",
    "data = []\n",
    "for ind in range(len(tableData)):\n",
    "    rows = []\n",
    "    for string in tableData[ind].stripped_strings:\n",
    "        rows.append(repr(string))\n",
    "    data.append(rows)\n",
    "data[0:5]"
   ]
  },
  {
   "cell_type": "markdown",
   "metadata": {},
   "source": [
    "I noticed that lists, with borough == \"Not assigned\", were of length 2. So I retained all lists with length > 2."
   ]
  },
  {
   "cell_type": "code",
   "execution_count": 5,
   "metadata": {},
   "outputs": [
    {
     "data": {
      "text/plain": [
       "[[\"'M3A'\", \"'North York'\", \"'('\", \"'Parkwoods'\", \"')'\"],\n",
       " [\"'M4A'\", \"'North York'\", \"'('\", \"'Victoria Village'\", \"')'\"],\n",
       " [\"'M5A'\",\n",
       "  \"'Downtown Toronto'\",\n",
       "  \"'('\",\n",
       "  \"'Regent Park'\",\n",
       "  \"'/'\",\n",
       "  \"'Harbourfront'\",\n",
       "  \"')'\"],\n",
       " [\"'M6A'\",\n",
       "  \"'North York'\",\n",
       "  \"'('\",\n",
       "  \"'Lawrence Manor'\",\n",
       "  \"'/'\",\n",
       "  \"'Lawrence Heights'\",\n",
       "  \"')'\"],\n",
       " [\"'M7A'\", '\"Queen\\'s Park\"', \"'(Ontario Provincial Government)'\"]]"
      ]
     },
     "execution_count": 5,
     "metadata": {},
     "output_type": "execute_result"
    }
   ],
   "source": [
    "#retain list of all data without a borough = \"Not assigned\"\n",
    "dataFiltered = []\n",
    "for ind in range(len(data)):\n",
    "    if len(data[ind]) > 2:\n",
    "        dataFiltered.append(data[ind])\n",
    "\n",
    "dataFiltered[0:5]"
   ]
  },
  {
   "cell_type": "markdown",
   "metadata": {},
   "source": [
    "Below, I firstly removed the redundant quotes from each element.\n",
    "\n",
    "Next, assuming all 3rd elements to the last element in each respective list was a Neighbourhood data, I concatenated all 3rd elements to the last elements in each list."
   ]
  },
  {
   "cell_type": "code",
   "execution_count": 6,
   "metadata": {},
   "outputs": [
    {
     "data": {
      "text/plain": [
       "[['M3A', 'North York', '(Parkwoods)'],\n",
       " ['M4A', 'North York', '(Victoria Village)'],\n",
       " ['M5A', 'Downtown Toronto', '(Regent Park/Harbourfront)'],\n",
       " ['M6A', 'North York', '(Lawrence Manor/Lawrence Heights)'],\n",
       " ['M7A', '\"Queens Park\"', '(Ontario Provincial Government)']]"
      ]
     },
     "execution_count": 6,
     "metadata": {},
     "output_type": "execute_result"
    }
   ],
   "source": [
    "#delete apostrophe\n",
    "for ind in range(len(dataFiltered)):\n",
    "    for ind2 in range(len(dataFiltered[ind])):\n",
    "        dataFiltered[ind][ind2] = dataFiltered[ind][ind2].replace(\"'\",\"\")\n",
    "\n",
    "#make each list a length of 3 by concatenating all elements except the first two  \n",
    "for ind in range (len(dataFiltered)):\n",
    "    dataFiltered[ind] = dataFiltered[ind][0:2] + [''.join(dataFiltered[ind][2:(len(dataFiltered[ind]))])]\n",
    "\n",
    "dataFiltered[0:5]"
   ]
  },
  {
   "cell_type": "markdown",
   "metadata": {},
   "source": [
    "Converting to dataframe..."
   ]
  },
  {
   "cell_type": "code",
   "execution_count": 7,
   "metadata": {},
   "outputs": [
    {
     "data": {
      "text/html": [
       "<div>\n",
       "<style scoped>\n",
       "    .dataframe tbody tr th:only-of-type {\n",
       "        vertical-align: middle;\n",
       "    }\n",
       "\n",
       "    .dataframe tbody tr th {\n",
       "        vertical-align: top;\n",
       "    }\n",
       "\n",
       "    .dataframe thead th {\n",
       "        text-align: right;\n",
       "    }\n",
       "</style>\n",
       "<table border=\"1\" class=\"dataframe\">\n",
       "  <thead>\n",
       "    <tr style=\"text-align: right;\">\n",
       "      <th></th>\n",
       "      <th>Postal Code</th>\n",
       "      <th>Borough</th>\n",
       "      <th>Neighbourhood</th>\n",
       "    </tr>\n",
       "  </thead>\n",
       "  <tbody>\n",
       "    <tr>\n",
       "      <th>0</th>\n",
       "      <td>M3A</td>\n",
       "      <td>North York</td>\n",
       "      <td>(Parkwoods)</td>\n",
       "    </tr>\n",
       "    <tr>\n",
       "      <th>1</th>\n",
       "      <td>M4A</td>\n",
       "      <td>North York</td>\n",
       "      <td>(Victoria Village)</td>\n",
       "    </tr>\n",
       "    <tr>\n",
       "      <th>2</th>\n",
       "      <td>M5A</td>\n",
       "      <td>Downtown Toronto</td>\n",
       "      <td>(Regent Park/Harbourfront)</td>\n",
       "    </tr>\n",
       "    <tr>\n",
       "      <th>3</th>\n",
       "      <td>M6A</td>\n",
       "      <td>North York</td>\n",
       "      <td>(Lawrence Manor/Lawrence Heights)</td>\n",
       "    </tr>\n",
       "    <tr>\n",
       "      <th>4</th>\n",
       "      <td>M7A</td>\n",
       "      <td>\"Queens Park\"</td>\n",
       "      <td>(Ontario Provincial Government)</td>\n",
       "    </tr>\n",
       "    <tr>\n",
       "      <th>...</th>\n",
       "      <td>...</td>\n",
       "      <td>...</td>\n",
       "      <td>...</td>\n",
       "    </tr>\n",
       "    <tr>\n",
       "      <th>98</th>\n",
       "      <td>M8X</td>\n",
       "      <td>Etobicoke</td>\n",
       "      <td>(The Kingsway/ Montgomery Road /Old MillNorth)</td>\n",
       "    </tr>\n",
       "    <tr>\n",
       "      <th>99</th>\n",
       "      <td>M4Y</td>\n",
       "      <td>Downtown Toronto</td>\n",
       "      <td>(Church and Wellesley)</td>\n",
       "    </tr>\n",
       "    <tr>\n",
       "      <th>100</th>\n",
       "      <td>M7Y</td>\n",
       "      <td>East Toronto</td>\n",
       "      <td>Business reply mailProcessing Centre969 Easter...</td>\n",
       "    </tr>\n",
       "    <tr>\n",
       "      <th>101</th>\n",
       "      <td>M8Y</td>\n",
       "      <td>Etobicoke</td>\n",
       "      <td>(Old Mill\"South / Kings Mill Park /\"Sunnylea/H...</td>\n",
       "    </tr>\n",
       "    <tr>\n",
       "      <th>102</th>\n",
       "      <td>M8Z</td>\n",
       "      <td>Etobicoke</td>\n",
       "      <td>(MimicoNW /The QueenswayWest / South of Bloor ...</td>\n",
       "    </tr>\n",
       "  </tbody>\n",
       "</table>\n",
       "<p>103 rows × 3 columns</p>\n",
       "</div>"
      ],
      "text/plain": [
       "    Postal Code           Borough  \\\n",
       "0           M3A        North York   \n",
       "1           M4A        North York   \n",
       "2           M5A  Downtown Toronto   \n",
       "3           M6A        North York   \n",
       "4           M7A     \"Queens Park\"   \n",
       "..          ...               ...   \n",
       "98          M8X         Etobicoke   \n",
       "99          M4Y  Downtown Toronto   \n",
       "100         M7Y      East Toronto   \n",
       "101         M8Y         Etobicoke   \n",
       "102         M8Z         Etobicoke   \n",
       "\n",
       "                                         Neighbourhood  \n",
       "0                                          (Parkwoods)  \n",
       "1                                   (Victoria Village)  \n",
       "2                           (Regent Park/Harbourfront)  \n",
       "3                    (Lawrence Manor/Lawrence Heights)  \n",
       "4                      (Ontario Provincial Government)  \n",
       "..                                                 ...  \n",
       "98      (The Kingsway/ Montgomery Road /Old MillNorth)  \n",
       "99                              (Church and Wellesley)  \n",
       "100  Business reply mailProcessing Centre969 Easter...  \n",
       "101  (Old Mill\"South / Kings Mill Park /\"Sunnylea/H...  \n",
       "102  (MimicoNW /The QueenswayWest / South of Bloor ...  \n",
       "\n",
       "[103 rows x 3 columns]"
      ]
     },
     "execution_count": 7,
     "metadata": {},
     "output_type": "execute_result"
    }
   ],
   "source": [
    "neighFrame = pd.DataFrame(dataFiltered)\n",
    "neighFrame.columns = [\"Postal Code\", \"Borough\", \"Neighbourhood\"]\n",
    "neighFrame"
   ]
  },
  {
   "cell_type": "markdown",
   "metadata": {},
   "source": [
    "Cleaning Data..."
   ]
  },
  {
   "cell_type": "code",
   "execution_count": 8,
   "metadata": {},
   "outputs": [],
   "source": [
    "#delete all double quotes\n",
    "for column in neighFrame.columns:\n",
    "    neighFrame[column] = neighFrame[column].str.replace('\"','')\n",
    "\n",
    "#delete all brackets in \"Neighbourhood\" column data starting with \"(\"\n",
    "colStartingWthBrack = neighFrame[neighFrame[\"Neighbourhood\"].str.startswith(\"(\")]\n",
    "#remove \")\"\n",
    "neighFrame.loc[colStartingWthBrack.index,\"Neighbourhood\"] = \\\n",
    "neighFrame.loc[colStartingWthBrack.index,\"Neighbourhood\"].str.replace(')','')\n",
    "#remove \"(\"\n",
    "neighFrame.loc[colStartingWthBrack.index,\"Neighbourhood\"] = \\\n",
    "neighFrame.loc[colStartingWthBrack.index,\"Neighbourhood\"].str.replace('(','')\n",
    "\n",
    "#delete \"Business reply mail\" from Neighbourhood column row 100\n",
    "neighFrame.loc[100, \"Neighbourhood\"] = \\\n",
    "neighFrame.loc[100, \"Neighbourhood\"][(len(\"Business reply mail\")):]\n",
    "\n",
    "#change all \"/\" to \", \"\n",
    "neighFrame[\"Neighbourhood\"] = neighFrame[\"Neighbourhood\"].str.replace('/',', ')\n",
    "\n",
    "#change all \" ,\" to \",\"\n",
    "neighFrame[\"Neighbourhood\"] = neighFrame[\"Neighbourhood\"].str.replace(' ,',',')\n",
    "\n",
    "#change all \"  \" to \" \"\n",
    "neighFrame[\"Neighbourhood\"] = neighFrame[\"Neighbourhood\"].str.replace('  ',' ')"
   ]
  },
  {
   "cell_type": "code",
   "execution_count": 9,
   "metadata": {},
   "outputs": [
    {
     "data": {
      "text/html": [
       "<div>\n",
       "<style scoped>\n",
       "    .dataframe tbody tr th:only-of-type {\n",
       "        vertical-align: middle;\n",
       "    }\n",
       "\n",
       "    .dataframe tbody tr th {\n",
       "        vertical-align: top;\n",
       "    }\n",
       "\n",
       "    .dataframe thead th {\n",
       "        text-align: right;\n",
       "    }\n",
       "</style>\n",
       "<table border=\"1\" class=\"dataframe\">\n",
       "  <thead>\n",
       "    <tr style=\"text-align: right;\">\n",
       "      <th></th>\n",
       "      <th>Postal Code</th>\n",
       "      <th>Borough</th>\n",
       "      <th>Neighbourhood</th>\n",
       "    </tr>\n",
       "  </thead>\n",
       "  <tbody>\n",
       "    <tr>\n",
       "      <th>0</th>\n",
       "      <td>M3A</td>\n",
       "      <td>North York</td>\n",
       "      <td>Parkwoods</td>\n",
       "    </tr>\n",
       "    <tr>\n",
       "      <th>1</th>\n",
       "      <td>M4A</td>\n",
       "      <td>North York</td>\n",
       "      <td>Victoria Village</td>\n",
       "    </tr>\n",
       "    <tr>\n",
       "      <th>2</th>\n",
       "      <td>M5A</td>\n",
       "      <td>Downtown Toronto</td>\n",
       "      <td>Regent Park, Harbourfront</td>\n",
       "    </tr>\n",
       "    <tr>\n",
       "      <th>3</th>\n",
       "      <td>M6A</td>\n",
       "      <td>North York</td>\n",
       "      <td>Lawrence Manor, Lawrence Heights</td>\n",
       "    </tr>\n",
       "    <tr>\n",
       "      <th>4</th>\n",
       "      <td>M7A</td>\n",
       "      <td>Queens Park</td>\n",
       "      <td>Ontario Provincial Government</td>\n",
       "    </tr>\n",
       "    <tr>\n",
       "      <th>...</th>\n",
       "      <td>...</td>\n",
       "      <td>...</td>\n",
       "      <td>...</td>\n",
       "    </tr>\n",
       "    <tr>\n",
       "      <th>98</th>\n",
       "      <td>M8X</td>\n",
       "      <td>Etobicoke</td>\n",
       "      <td>The Kingsway, Montgomery Road, Old MillNorth</td>\n",
       "    </tr>\n",
       "    <tr>\n",
       "      <th>99</th>\n",
       "      <td>M4Y</td>\n",
       "      <td>Downtown Toronto</td>\n",
       "      <td>Church and Wellesley</td>\n",
       "    </tr>\n",
       "    <tr>\n",
       "      <th>100</th>\n",
       "      <td>M7Y</td>\n",
       "      <td>East Toronto</td>\n",
       "      <td>Processing Centre969 Eastern(Enclave of M4L)</td>\n",
       "    </tr>\n",
       "    <tr>\n",
       "      <th>101</th>\n",
       "      <td>M8Y</td>\n",
       "      <td>Etobicoke</td>\n",
       "      <td>Old MillSouth, Kings Mill Park, Sunnylea, Humb...</td>\n",
       "    </tr>\n",
       "    <tr>\n",
       "      <th>102</th>\n",
       "      <td>M8Z</td>\n",
       "      <td>Etobicoke</td>\n",
       "      <td>MimicoNW, The QueenswayWest, South of Bloor, K...</td>\n",
       "    </tr>\n",
       "  </tbody>\n",
       "</table>\n",
       "<p>103 rows × 3 columns</p>\n",
       "</div>"
      ],
      "text/plain": [
       "    Postal Code           Borough  \\\n",
       "0           M3A        North York   \n",
       "1           M4A        North York   \n",
       "2           M5A  Downtown Toronto   \n",
       "3           M6A        North York   \n",
       "4           M7A       Queens Park   \n",
       "..          ...               ...   \n",
       "98          M8X         Etobicoke   \n",
       "99          M4Y  Downtown Toronto   \n",
       "100         M7Y      East Toronto   \n",
       "101         M8Y         Etobicoke   \n",
       "102         M8Z         Etobicoke   \n",
       "\n",
       "                                         Neighbourhood  \n",
       "0                                            Parkwoods  \n",
       "1                                     Victoria Village  \n",
       "2                            Regent Park, Harbourfront  \n",
       "3                     Lawrence Manor, Lawrence Heights  \n",
       "4                        Ontario Provincial Government  \n",
       "..                                                 ...  \n",
       "98        The Kingsway, Montgomery Road, Old MillNorth  \n",
       "99                                Church and Wellesley  \n",
       "100       Processing Centre969 Eastern(Enclave of M4L)  \n",
       "101  Old MillSouth, Kings Mill Park, Sunnylea, Humb...  \n",
       "102  MimicoNW, The QueenswayWest, South of Bloor, K...  \n",
       "\n",
       "[103 rows x 3 columns]"
      ]
     },
     "execution_count": 9,
     "metadata": {},
     "output_type": "execute_result"
    }
   ],
   "source": [
    "neighFrame"
   ]
  },
  {
   "cell_type": "code",
   "execution_count": 10,
   "metadata": {},
   "outputs": [
    {
     "data": {
      "text/plain": [
       "(103, 3)"
      ]
     },
     "execution_count": 10,
     "metadata": {},
     "output_type": "execute_result"
    }
   ],
   "source": [
    "neighFrame.shape"
   ]
  }
 ],
 "metadata": {
  "kernelspec": {
   "display_name": "Python 3",
   "language": "python",
   "name": "python3"
  },
  "language_info": {
   "codemirror_mode": {
    "name": "ipython",
    "version": 3
   },
   "file_extension": ".py",
   "mimetype": "text/x-python",
   "name": "python",
   "nbconvert_exporter": "python",
   "pygments_lexer": "ipython3",
   "version": "3.8.5"
  }
 },
 "nbformat": 4,
 "nbformat_minor": 4
}
